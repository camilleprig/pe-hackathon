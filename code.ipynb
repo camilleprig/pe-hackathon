{
 "cells": [
  {
   "cell_type": "code",
   "execution_count": 40,
   "metadata": {},
   "outputs": [],
   "source": [
    "import pandas as pd\n",
    "import numpy as np\n",
    "import matplotlib.pyplot as plt\n",
    "import seaborn as sns"
   ]
  },
  {
   "cell_type": "markdown",
   "metadata": {},
   "source": [
    "## Importation des données"
   ]
  },
  {
   "cell_type": "code",
   "execution_count": 41,
   "metadata": {},
   "outputs": [
    {
     "name": "stderr",
     "output_type": "stream",
     "text": [
      "  df=pd.read_csv('fichier.csv')\n"
     ]
    }
   ],
   "source": [
    "df=pd.read_csv('fichier.csv')\n",
    "df.head()\n",
    "df = df[df.default_flag == 1]"
   ]
  },
  {
   "cell_type": "markdown",
   "metadata": {},
   "source": [
    "## Partie Lise"
   ]
  },
  {
   "cell_type": "code",
   "execution_count": 42,
   "metadata": {},
   "outputs": [],
   "source": [
    "dfl = df\n"
   ]
  },
  {
   "cell_type": "markdown",
   "metadata": {},
   "source": [
    "## Partie Romain"
   ]
  },
  {
   "cell_type": "code",
   "execution_count": 43,
   "metadata": {},
   "outputs": [
    {
     "name": "stderr",
     "output_type": "stream",
     "text": [
      "C:\\Users\\romai\\AppData\\Local\\Temp\\ipykernel_23100\\830225641.py:2: SettingWithCopyWarning: \n",
      "A value is trying to be set on a copy of a slice from a DataFrame\n",
      "\n",
      "See the caveats in the documentation: https://pandas.pydata.org/pandas-docs/stable/user_guide/indexing.html#returning-a-view-versus-a-copy\n",
      "  dfr.rename(axis=\"columns\", mapper={\"pl_name\":\"nom\",\"pl_orbper\":\"période_orbite\",\"pl_orbsmax\":\"demi_grand_axe\",\"pl_rade\":\"rayon\",\"pl_bmasse\":\"masse\",\"pl_orbeccen\":\"excentricité\"},inplace=True)\n"
     ]
    }
   ],
   "source": [
    "\n",
    "dfr = df[[\"pl_name\",\"hostname\",\"default_flag\",\"sy_snum\",\"sy_pnum\",\"rowid\",\"pl_refname\",\"pl_orbper\",\"pl_orbsmax\",\"pl_rade\",\"pl_bmasse\",\"pl_orbeccen\"]]\n",
    "dfr.rename(axis=\"columns\", mapper={\"pl_name\":\"nom\",\"pl_orbper\":\"période_orbite\",\"pl_orbsmax\":\"demi_grand_axe\",\"pl_rade\":\"rayon\",\"pl_bmasse\":\"masse\",\"pl_orbeccen\":\"excentricité\"},inplace=True)"
   ]
  },
  {
   "cell_type": "code",
   "execution_count": 44,
   "metadata": {},
   "outputs": [
    {
     "data": {
      "text/html": [
       "<div>\n",
       "<style scoped>\n",
       "    .dataframe tbody tr th:only-of-type {\n",
       "        vertical-align: middle;\n",
       "    }\n",
       "\n",
       "    .dataframe tbody tr th {\n",
       "        vertical-align: top;\n",
       "    }\n",
       "\n",
       "    .dataframe thead th {\n",
       "        text-align: right;\n",
       "    }\n",
       "</style>\n",
       "<table border=\"1\" class=\"dataframe\">\n",
       "  <thead>\n",
       "    <tr style=\"text-align: right;\">\n",
       "      <th></th>\n",
       "      <th>default_flag</th>\n",
       "      <th>sy_snum</th>\n",
       "      <th>sy_pnum</th>\n",
       "      <th>rowid</th>\n",
       "      <th>période_orbite</th>\n",
       "      <th>demi_grand_axe</th>\n",
       "      <th>rayon</th>\n",
       "      <th>masse</th>\n",
       "      <th>excentricité</th>\n",
       "    </tr>\n",
       "  </thead>\n",
       "  <tbody>\n",
       "    <tr>\n",
       "      <th>count</th>\n",
       "      <td>5535.0</td>\n",
       "      <td>5535.000000</td>\n",
       "      <td>5535.000000</td>\n",
       "      <td>5535.000000</td>\n",
       "      <td>5.287000e+03</td>\n",
       "      <td>3318.000000</td>\n",
       "      <td>4173.000000</td>\n",
       "      <td>2488.000000</td>\n",
       "      <td>2185.000000</td>\n",
       "    </tr>\n",
       "    <tr>\n",
       "      <th>mean</th>\n",
       "      <td>1.0</td>\n",
       "      <td>1.102078</td>\n",
       "      <td>1.770009</td>\n",
       "      <td>15493.401987</td>\n",
       "      <td>8.088392e+04</td>\n",
       "      <td>10.374148</td>\n",
       "      <td>4.271998</td>\n",
       "      <td>764.568608</td>\n",
       "      <td>0.156389</td>\n",
       "    </tr>\n",
       "    <tr>\n",
       "      <th>std</th>\n",
       "      <td>0.0</td>\n",
       "      <td>0.339360</td>\n",
       "      <td>1.146499</td>\n",
       "      <td>11858.577474</td>\n",
       "      <td>5.531259e+06</td>\n",
       "      <td>169.371181</td>\n",
       "      <td>4.743108</td>\n",
       "      <td>1418.769337</td>\n",
       "      <td>0.185088</td>\n",
       "    </tr>\n",
       "    <tr>\n",
       "      <th>min</th>\n",
       "      <td>1.0</td>\n",
       "      <td>1.000000</td>\n",
       "      <td>1.000000</td>\n",
       "      <td>3.000000</td>\n",
       "      <td>9.070629e-02</td>\n",
       "      <td>0.004400</td>\n",
       "      <td>0.310000</td>\n",
       "      <td>0.020000</td>\n",
       "      <td>0.000000</td>\n",
       "    </tr>\n",
       "    <tr>\n",
       "      <th>25%</th>\n",
       "      <td>1.0</td>\n",
       "      <td>1.000000</td>\n",
       "      <td>1.000000</td>\n",
       "      <td>3935.500000</td>\n",
       "      <td>4.460639e+00</td>\n",
       "      <td>0.055900</td>\n",
       "      <td>1.593000</td>\n",
       "      <td>14.987500</td>\n",
       "      <td>0.014000</td>\n",
       "    </tr>\n",
       "    <tr>\n",
       "      <th>50%</th>\n",
       "      <td>1.0</td>\n",
       "      <td>1.000000</td>\n",
       "      <td>1.000000</td>\n",
       "      <td>13756.000000</td>\n",
       "      <td>1.155562e+01</td>\n",
       "      <td>0.118900</td>\n",
       "      <td>2.380000</td>\n",
       "      <td>204.046350</td>\n",
       "      <td>0.091000</td>\n",
       "    </tr>\n",
       "    <tr>\n",
       "      <th>75%</th>\n",
       "      <td>1.0</td>\n",
       "      <td>1.000000</td>\n",
       "      <td>2.000000</td>\n",
       "      <td>26968.500000</td>\n",
       "      <td>4.139416e+01</td>\n",
       "      <td>0.850000</td>\n",
       "      <td>3.690000</td>\n",
       "      <td>742.133050</td>\n",
       "      <td>0.224000</td>\n",
       "    </tr>\n",
       "    <tr>\n",
       "      <th>max</th>\n",
       "      <td>1.0</td>\n",
       "      <td>4.000000</td>\n",
       "      <td>8.000000</td>\n",
       "      <td>35115.000000</td>\n",
       "      <td>4.020000e+08</td>\n",
       "      <td>7506.000000</td>\n",
       "      <td>77.342000</td>\n",
       "      <td>9534.900000</td>\n",
       "      <td>0.950000</td>\n",
       "    </tr>\n",
       "  </tbody>\n",
       "</table>\n",
       "</div>"
      ],
      "text/plain": [
       "       default_flag      sy_snum      sy_pnum         rowid  période_orbite  \\\n",
       "count        5535.0  5535.000000  5535.000000   5535.000000    5.287000e+03   \n",
       "mean            1.0     1.102078     1.770009  15493.401987    8.088392e+04   \n",
       "std             0.0     0.339360     1.146499  11858.577474    5.531259e+06   \n",
       "min             1.0     1.000000     1.000000      3.000000    9.070629e-02   \n",
       "25%             1.0     1.000000     1.000000   3935.500000    4.460639e+00   \n",
       "50%             1.0     1.000000     1.000000  13756.000000    1.155562e+01   \n",
       "75%             1.0     1.000000     2.000000  26968.500000    4.139416e+01   \n",
       "max             1.0     4.000000     8.000000  35115.000000    4.020000e+08   \n",
       "\n",
       "       demi_grand_axe        rayon        masse  excentricité  \n",
       "count     3318.000000  4173.000000  2488.000000   2185.000000  \n",
       "mean        10.374148     4.271998   764.568608      0.156389  \n",
       "std        169.371181     4.743108  1418.769337      0.185088  \n",
       "min          0.004400     0.310000     0.020000      0.000000  \n",
       "25%          0.055900     1.593000    14.987500      0.014000  \n",
       "50%          0.118900     2.380000   204.046350      0.091000  \n",
       "75%          0.850000     3.690000   742.133050      0.224000  \n",
       "max       7506.000000    77.342000  9534.900000      0.950000  "
      ]
     },
     "execution_count": 44,
     "metadata": {},
     "output_type": "execute_result"
    }
   ],
   "source": [
    "dfr.describe()"
   ]
  },
  {
   "cell_type": "markdown",
   "metadata": {},
   "source": [
    "Les données sont très dispersées (les écarts-types sont parfois un ordre de grandeur supérieur à la moyenne !), on va donc passer en échelle logarithmique pour les représenter, et ensuite prendre la partie entière."
   ]
  },
  {
   "cell_type": "code",
   "execution_count": 53,
   "metadata": {},
   "outputs": [
    {
     "name": "stderr",
     "output_type": "stream",
     "text": [
      "C:\\Users\\romai\\AppData\\Local\\Temp\\ipykernel_23100\\1542800402.py:1: SettingWithCopyWarning: \n",
      "A value is trying to be set on a copy of a slice from a DataFrame.\n",
      "Try using .loc[row_indexer,col_indexer] = value instead\n",
      "\n",
      "See the caveats in the documentation: https://pandas.pydata.org/pandas-docs/stable/user_guide/indexing.html#returning-a-view-versus-a-copy\n",
      "  dfr[\"demi_grand_axe_log\"] = np.log10(dfr.demi_grand_axe)\n",
      "C:\\Users\\romai\\AppData\\Local\\Temp\\ipykernel_23100\\1542800402.py:2: SettingWithCopyWarning: \n",
      "A value is trying to be set on a copy of a slice from a DataFrame.\n",
      "Try using .loc[row_indexer,col_indexer] = value instead\n",
      "\n",
      "See the caveats in the documentation: https://pandas.pydata.org/pandas-docs/stable/user_guide/indexing.html#returning-a-view-versus-a-copy\n",
      "  dfr.demi_grand_axe_log = dfr.demi_grand_axe_log//1\n",
      "C:\\Users\\romai\\AppData\\Local\\Temp\\ipykernel_23100\\1542800402.py:4: SettingWithCopyWarning: \n",
      "A value is trying to be set on a copy of a slice from a DataFrame.\n",
      "Try using .loc[row_indexer,col_indexer] = value instead\n",
      "\n",
      "See the caveats in the documentation: https://pandas.pydata.org/pandas-docs/stable/user_guide/indexing.html#returning-a-view-versus-a-copy\n",
      "  dfr[\"période_orbite_log\"] = np.log10(dfr.période_orbite)\n"
     ]
    }
   ],
   "source": [
    "dfr[\"demi_grand_axe_log\"] = np.log10(dfr.demi_grand_axe)\n",
    "dfr.demi_grand_axe_log = dfr.demi_grand_axe_log//1\n",
    "\n",
    "dfr[\"période_orbite_log\"] = np.log10(dfr.période_orbite)"
   ]
  },
  {
   "cell_type": "markdown",
   "metadata": {},
   "source": [
    "### Demi grand axes des orbites des planètes"
   ]
  },
  {
   "cell_type": "code",
   "execution_count": 46,
   "metadata": {},
   "outputs": [
    {
     "data": {
      "text/plain": [
       "demi_grand_axe_log\n",
       "-2.0    1459\n",
       "-1.0    1055\n",
       " 0.0     677\n",
       " 1.0      77\n",
       " 2.0      28\n",
       "-3.0      15\n",
       " 3.0       7\n",
       "Name: count, dtype: int64"
      ]
     },
     "execution_count": 46,
     "metadata": {},
     "output_type": "execute_result"
    }
   ],
   "source": [
    "dfr.demi_grand_axe_log.value_counts()"
   ]
  },
  {
   "cell_type": "code",
   "execution_count": 47,
   "metadata": {},
   "outputs": [
    {
     "data": {
      "text/plain": [
       "<Axes: xlabel='demi grand axe (en unités astronomiques) en échelle logarithmique', ylabel='nombre de planètes'>"
      ]
     },
     "execution_count": 47,
     "metadata": {},
     "output_type": "execute_result"
    },
    {
     "data": {
      "image/png": "[encoded data removed]",
      "text/plain": [
       "<Figure size 640x480 with 1 Axes>"
      ]
     },
     "metadata": {},
     "output_type": "display_data"
    }
   ],
   "source": [
    "dfr.demi_grand_axe_log.value_counts().plot(kind = \"bar\",ylabel=\"nombre de planètes\",xlabel=\"demi grand axe (en unités astronomiques) en échelle logarithmique\")"
   ]
  },
  {
   "cell_type": "code",
   "execution_count": 48,
   "metadata": {},
   "outputs": [
    {
     "data": {
      "text/html": [
       "<div>\n",
       "<style scoped>\n",
       "    .dataframe tbody tr th:only-of-type {\n",
       "        vertical-align: middle;\n",
       "    }\n",
       "\n",
       "    .dataframe tbody tr th {\n",
       "        vertical-align: top;\n",
       "    }\n",
       "\n",
       "    .dataframe thead th {\n",
       "        text-align: right;\n",
       "    }\n",
       "</style>\n",
       "<table border=\"1\" class=\"dataframe\">\n",
       "  <thead>\n",
       "    <tr style=\"text-align: right;\">\n",
       "      <th></th>\n",
       "      <th>default_flag</th>\n",
       "      <th>sy_snum</th>\n",
       "      <th>sy_pnum</th>\n",
       "      <th>rowid</th>\n",
       "      <th>période_orbite</th>\n",
       "      <th>demi_grand_axe</th>\n",
       "      <th>rayon</th>\n",
       "      <th>masse</th>\n",
       "      <th>excentricité</th>\n",
       "      <th>demi_grand_axe_log</th>\n",
       "    </tr>\n",
       "  </thead>\n",
       "  <tbody>\n",
       "    <tr>\n",
       "      <th>count</th>\n",
       "      <td>5535.0</td>\n",
       "      <td>5535.000000</td>\n",
       "      <td>5535.000000</td>\n",
       "      <td>5535.000000</td>\n",
       "      <td>5.287000e+03</td>\n",
       "      <td>3318.000000</td>\n",
       "      <td>4173.000000</td>\n",
       "      <td>2488.000000</td>\n",
       "      <td>2185.000000</td>\n",
       "      <td>3318.000000</td>\n",
       "    </tr>\n",
       "    <tr>\n",
       "      <th>mean</th>\n",
       "      <td>1.0</td>\n",
       "      <td>1.102078</td>\n",
       "      <td>1.770009</td>\n",
       "      <td>15493.401987</td>\n",
       "      <td>8.088392e+04</td>\n",
       "      <td>10.374148</td>\n",
       "      <td>4.271998</td>\n",
       "      <td>764.568608</td>\n",
       "      <td>0.156389</td>\n",
       "      <td>-1.164557</td>\n",
       "    </tr>\n",
       "    <tr>\n",
       "      <th>std</th>\n",
       "      <td>0.0</td>\n",
       "      <td>0.339360</td>\n",
       "      <td>1.146499</td>\n",
       "      <td>11858.577474</td>\n",
       "      <td>5.531259e+06</td>\n",
       "      <td>169.371181</td>\n",
       "      <td>4.743108</td>\n",
       "      <td>1418.769337</td>\n",
       "      <td>0.185088</td>\n",
       "      <td>0.915177</td>\n",
       "    </tr>\n",
       "    <tr>\n",
       "      <th>min</th>\n",
       "      <td>1.0</td>\n",
       "      <td>1.000000</td>\n",
       "      <td>1.000000</td>\n",
       "      <td>3.000000</td>\n",
       "      <td>9.070629e-02</td>\n",
       "      <td>0.004400</td>\n",
       "      <td>0.310000</td>\n",
       "      <td>0.020000</td>\n",
       "      <td>0.000000</td>\n",
       "      <td>-3.000000</td>\n",
       "    </tr>\n",
       "    <tr>\n",
       "      <th>25%</th>\n",
       "      <td>1.0</td>\n",
       "      <td>1.000000</td>\n",
       "      <td>1.000000</td>\n",
       "      <td>3935.500000</td>\n",
       "      <td>4.460639e+00</td>\n",
       "      <td>0.055900</td>\n",
       "      <td>1.593000</td>\n",
       "      <td>14.987500</td>\n",
       "      <td>0.014000</td>\n",
       "      <td>-2.000000</td>\n",
       "    </tr>\n",
       "    <tr>\n",
       "      <th>50%</th>\n",
       "      <td>1.0</td>\n",
       "      <td>1.000000</td>\n",
       "      <td>1.000000</td>\n",
       "      <td>13756.000000</td>\n",
       "      <td>1.155562e+01</td>\n",
       "      <td>0.118900</td>\n",
       "      <td>2.380000</td>\n",
       "      <td>204.046350</td>\n",
       "      <td>0.091000</td>\n",
       "      <td>-1.000000</td>\n",
       "    </tr>\n",
       "    <tr>\n",
       "      <th>75%</th>\n",
       "      <td>1.0</td>\n",
       "      <td>1.000000</td>\n",
       "      <td>2.000000</td>\n",
       "      <td>26968.500000</td>\n",
       "      <td>4.139416e+01</td>\n",
       "      <td>0.850000</td>\n",
       "      <td>3.690000</td>\n",
       "      <td>742.133050</td>\n",
       "      <td>0.224000</td>\n",
       "      <td>-1.000000</td>\n",
       "    </tr>\n",
       "    <tr>\n",
       "      <th>max</th>\n",
       "      <td>1.0</td>\n",
       "      <td>4.000000</td>\n",
       "      <td>8.000000</td>\n",
       "      <td>35115.000000</td>\n",
       "      <td>4.020000e+08</td>\n",
       "      <td>7506.000000</td>\n",
       "      <td>77.342000</td>\n",
       "      <td>9534.900000</td>\n",
       "      <td>0.950000</td>\n",
       "      <td>3.000000</td>\n",
       "    </tr>\n",
       "  </tbody>\n",
       "</table>\n",
       "</div>"
      ],
      "text/plain": [
       "       default_flag      sy_snum      sy_pnum         rowid  période_orbite  \\\n",
       "count        5535.0  5535.000000  5535.000000   5535.000000    5.287000e+03   \n",
       "mean            1.0     1.102078     1.770009  15493.401987    8.088392e+04   \n",
       "std             0.0     0.339360     1.146499  11858.577474    5.531259e+06   \n",
       "min             1.0     1.000000     1.000000      3.000000    9.070629e-02   \n",
       "25%             1.0     1.000000     1.000000   3935.500000    4.460639e+00   \n",
       "50%             1.0     1.000000     1.000000  13756.000000    1.155562e+01   \n",
       "75%             1.0     1.000000     2.000000  26968.500000    4.139416e+01   \n",
       "max             1.0     4.000000     8.000000  35115.000000    4.020000e+08   \n",
       "\n",
       "       demi_grand_axe        rayon        masse  excentricité  \\\n",
       "count     3318.000000  4173.000000  2488.000000   2185.000000   \n",
       "mean        10.374148     4.271998   764.568608      0.156389   \n",
       "std        169.371181     4.743108  1418.769337      0.185088   \n",
       "min          0.004400     0.310000     0.020000      0.000000   \n",
       "25%          0.055900     1.593000    14.987500      0.014000   \n",
       "50%          0.118900     2.380000   204.046350      0.091000   \n",
       "75%          0.850000     3.690000   742.133050      0.224000   \n",
       "max       7506.000000    77.342000  9534.900000      0.950000   \n",
       "\n",
       "       demi_grand_axe_log  \n",
       "count         3318.000000  \n",
       "mean            -1.164557  \n",
       "std              0.915177  \n",
       "min             -3.000000  \n",
       "25%             -2.000000  \n",
       "50%             -1.000000  \n",
       "75%             -1.000000  \n",
       "max              3.000000  "
      ]
     },
     "execution_count": 48,
     "metadata": {},
     "output_type": "execute_result"
    }
   ],
   "source": [
    "dfr.describe()"
   ]
  },
  {
   "cell_type": "markdown",
   "metadata": {},
   "source": [
    "## Partie Ombline"
   ]
  },
  {
   "cell_type": "code",
   "execution_count": 49,
   "metadata": {},
   "outputs": [],
   "source": [
    "dfo = df"
   ]
  },
  {
   "cell_type": "markdown",
   "metadata": {},
   "source": [
    "\n",
    "### Étude des températures des planètes ###"
   ]
  },
  {
   "cell_type": "code",
   "execution_count": 7,
   "metadata": {},
   "outputs": [],
   "source": [
    "temperature = dfo[\"st_teff\"]"
   ]
  },
  {
   "cell_type": "markdown",
   "metadata": {},
   "source": [
    "Regardons quelle est la tendance de température des planètes."
   ]
  },
  {
   "cell_type": "code",
   "execution_count": 8,
   "metadata": {},
   "outputs": [
    {
     "data": {
      "image/png": "[encoded data removed]",
      "text/plain": [
       "<Figure size 640x480 with 1 Axes>"
      ]
     },
     "metadata": {},
     "output_type": "display_data"
    }
   ],
   "source": [
    "plt.hist(temperature, bins=1000)\n",
    "plt.show()"
   ]
  },
  {
   "cell_type": "markdown",
   "metadata": {},
   "source": [
    "On voit qu'une température est privilégiée, regardons laquelle."
   ]
  },
  {
   "cell_type": "code",
   "execution_count": 15,
   "metadata": {},
   "outputs": [
    {
     "data": {
      "text/plain": [
       "count     4929.00000\n",
       "mean      5420.06057\n",
       "std       1507.13282\n",
       "min        415.00000\n",
       "25%       4953.00000\n",
       "50%       5556.00000\n",
       "75%       5904.00000\n",
       "max      40000.00000\n",
       "Name: st_teff, dtype: float64"
      ]
     },
     "execution_count": 15,
     "metadata": {},
     "output_type": "execute_result"
    }
   ],
   "source": [
    "temperature.describe()"
   ]
  },
  {
   "cell_type": "markdown",
   "metadata": {},
   "source": [
    "On lit que la moyenne de température est de 5420.06057 K.\n",
    "Étudions à présent le rayon des planètes."
   ]
  },
  {
   "cell_type": "markdown",
   "metadata": {},
   "source": [
    "### Étude du rayon des planètes"
   ]
  },
  {
   "cell_type": "code",
   "execution_count": 10,
   "metadata": {},
   "outputs": [
    {
     "data": {
      "image/png": "[encoded data removed]",
      "text/plain": [
       "<Figure size 640x480 with 1 Axes>"
      ]
     },
     "metadata": {},
     "output_type": "display_data"
    }
   ],
   "source": [
    "rayon = dfo[\"st_rad\"]\n",
    "plt.hist(rayon, bins = 100)\n",
    "plt.show()"
   ]
  },
  {
   "cell_type": "markdown",
   "metadata": {},
   "source": [
    "On voit qu'il y a peu de données au dessus de 20 rayons du Soleil.\n",
    "On va donc afficher un histogramme qui ne prend en compte que les données en dessous de cette valeur."
   ]
  },
  {
   "cell_type": "code",
   "execution_count": 14,
   "metadata": {},
   "outputs": [
    {
     "data": {
      "image/png": "[encoded data removed]",
      "text/plain": [
       "<Figure size 640x480 with 1 Axes>"
      ]
     },
     "metadata": {},
     "output_type": "display_data"
    }
   ],
   "source": [
    "plt.hist(rayon, bins=200, )\n",
    "plt.show()\n",
    "\n",
    "# comment faire ?\n"
   ]
  },
  {
   "cell_type": "markdown",
   "metadata": {},
   "source": [
    "Regardons à présent de manière générale les données relatives au rayon des planètes."
   ]
  },
  {
   "cell_type": "code",
   "execution_count": 21,
   "metadata": {},
   "outputs": [
    {
     "data": {
      "text/plain": [
       "count    4839.000000\n",
       "mean        1.517778\n",
       "std         3.909116\n",
       "min         0.010000\n",
       "25%         0.780000\n",
       "50%         0.950000\n",
       "75%         1.240000\n",
       "max        88.470000\n",
       "Name: st_rad, dtype: float64"
      ]
     },
     "execution_count": 21,
     "metadata": {},
     "output_type": "execute_result"
    }
   ],
   "source": [
    "rayon.describe()"
   ]
  },
  {
   "cell_type": "markdown",
   "metadata": {},
   "source": [
    "### Étude de la masse des planètes"
   ]
  },
  {
   "cell_type": "code",
   "execution_count": 24,
   "metadata": {},
   "outputs": [
    {
     "data": {
      "image/png": "[encoded data removed]",
      "text/plain": [
       "<Figure size 640x480 with 1 Axes>"
      ]
     },
     "metadata": {},
     "output_type": "display_data"
    }
   ],
   "source": [
    "masse = dfo[\"st_mass\"]\n",
    "plt.hist(masse, bins = 100)\n",
    "plt.show()"
   ]
  },
  {
   "cell_type": "markdown",
   "metadata": {},
   "source": [
    "On voit qu'une masse est privilégiée, regardons laquelle."
   ]
  },
  {
   "cell_type": "code",
   "execution_count": 25,
   "metadata": {},
   "outputs": [
    {
     "data": {
      "text/plain": [
       "count    4787.000000\n",
       "mean        0.955997\n",
       "std         0.448734\n",
       "min         0.010000\n",
       "25%         0.780000\n",
       "50%         0.950000\n",
       "75%         1.100000\n",
       "max        10.940000\n",
       "Name: st_mass, dtype: float64"
      ]
     },
     "execution_count": 25,
     "metadata": {},
     "output_type": "execute_result"
    }
   ],
   "source": [
    "masse.describe()"
   ]
  },
  {
   "cell_type": "markdown",
   "metadata": {},
   "source": [
    "On lit que la moyenne de masse est 0.955997 la masse du Soleil."
   ]
  },
  {
   "cell_type": "markdown",
   "metadata": {},
   "source": [
    "### Étude de la métallicité des planètes"
   ]
  },
  {
   "cell_type": "markdown",
   "metadata": {},
   "source": [
    "*Métallicité : (d'un objet astronomique) la fraction de sa masse qui n'est pas constituée d'hydrogène ou d'hélium*"
   ]
  },
  {
   "cell_type": "code",
   "execution_count": 27,
   "metadata": {},
   "outputs": [
    {
     "data": {
      "image/png": "[encoded data removed]",
      "text/plain": [
       "<Figure size 640x480 with 1 Axes>"
      ]
     },
     "metadata": {},
     "output_type": "display_data"
    }
   ],
   "source": [
    "metal = dfo[\"st_met\"]\n",
    "plt.hist(metal, bins = 200)\n",
    "plt.show()"
   ]
  },
  {
   "cell_type": "markdown",
   "metadata": {},
   "source": [
    "On voit que la métallicité des planètes se concentre autour d'une valeur."
   ]
  },
  {
   "cell_type": "code",
   "execution_count": 28,
   "metadata": {},
   "outputs": [
    {
     "data": {
      "text/plain": [
       "count    3885.000000\n",
       "mean        0.010949\n",
       "std         0.221377\n",
       "min        -1.000000\n",
       "25%        -0.080000\n",
       "50%         0.016000\n",
       "75%         0.119000\n",
       "max         7.790000\n",
       "Name: st_met, dtype: float64"
      ]
     },
     "execution_count": 28,
     "metadata": {},
     "output_type": "execute_result"
    }
   ],
   "source": [
    "metal.describe()"
   ]
  },
  {
   "cell_type": "markdown",
   "metadata": {},
   "source": [
    "Cette valeur est 0,011. Les planètes sont donc en majorité constituées principalement d'hélium et d'hydrogène."
   ]
  },
  {
   "cell_type": "markdown",
   "metadata": {},
   "source": [
    "## Partie Camille"
   ]
  },
  {
   "cell_type": "code",
   "execution_count": 50,
   "metadata": {},
   "outputs": [
    {
     "data": {
      "text/html": [
       "<div>\n",
       "<style scoped>\n",
       "    .dataframe tbody tr th:only-of-type {\n",
       "        vertical-align: middle;\n",
       "    }\n",
       "\n",
       "    .dataframe tbody tr th {\n",
       "        vertical-align: top;\n",
       "    }\n",
       "\n",
       "    .dataframe thead th {\n",
       "        text-align: right;\n",
       "    }\n",
       "</style>\n",
       "<table border=\"1\" class=\"dataframe\">\n",
       "  <thead>\n",
       "    <tr style=\"text-align: right;\">\n",
       "      <th></th>\n",
       "      <th>pl_name</th>\n",
       "      <th>hostname</th>\n",
       "      <th>sy_snum</th>\n",
       "      <th>sy_pnum</th>\n",
       "    </tr>\n",
       "  </thead>\n",
       "  <tbody>\n",
       "    <tr>\n",
       "      <th>2</th>\n",
       "      <td>11 Com b</td>\n",
       "      <td>11 Com</td>\n",
       "      <td>2</td>\n",
       "      <td>1</td>\n",
       "    </tr>\n",
       "    <tr>\n",
       "      <th>3</th>\n",
       "      <td>11 UMi b</td>\n",
       "      <td>11 UMi</td>\n",
       "      <td>1</td>\n",
       "      <td>1</td>\n",
       "    </tr>\n",
       "    <tr>\n",
       "      <th>6</th>\n",
       "      <td>14 And b</td>\n",
       "      <td>14 And</td>\n",
       "      <td>1</td>\n",
       "      <td>1</td>\n",
       "    </tr>\n",
       "    <tr>\n",
       "      <th>11</th>\n",
       "      <td>14 Her b</td>\n",
       "      <td>14 Her</td>\n",
       "      <td>1</td>\n",
       "      <td>2</td>\n",
       "    </tr>\n",
       "    <tr>\n",
       "      <th>22</th>\n",
       "      <td>16 Cyg B b</td>\n",
       "      <td>16 Cyg B</td>\n",
       "      <td>3</td>\n",
       "      <td>1</td>\n",
       "    </tr>\n",
       "    <tr>\n",
       "      <th>...</th>\n",
       "      <td>...</td>\n",
       "      <td>...</td>\n",
       "      <td>...</td>\n",
       "      <td>...</td>\n",
       "    </tr>\n",
       "    <tr>\n",
       "      <th>35096</th>\n",
       "      <td>ups And b</td>\n",
       "      <td>ups And</td>\n",
       "      <td>2</td>\n",
       "      <td>3</td>\n",
       "    </tr>\n",
       "    <tr>\n",
       "      <th>35103</th>\n",
       "      <td>ups And c</td>\n",
       "      <td>ups And</td>\n",
       "      <td>2</td>\n",
       "      <td>3</td>\n",
       "    </tr>\n",
       "    <tr>\n",
       "      <th>35108</th>\n",
       "      <td>ups And d</td>\n",
       "      <td>ups And</td>\n",
       "      <td>2</td>\n",
       "      <td>3</td>\n",
       "    </tr>\n",
       "    <tr>\n",
       "      <th>35111</th>\n",
       "      <td>ups Leo b</td>\n",
       "      <td>ups Leo</td>\n",
       "      <td>1</td>\n",
       "      <td>1</td>\n",
       "    </tr>\n",
       "    <tr>\n",
       "      <th>35114</th>\n",
       "      <td>xi Aql b</td>\n",
       "      <td>xi Aql</td>\n",
       "      <td>1</td>\n",
       "      <td>1</td>\n",
       "    </tr>\n",
       "  </tbody>\n",
       "</table>\n",
       "<p>5535 rows × 4 columns</p>\n",
       "</div>"
      ],
      "text/plain": [
       "          pl_name  hostname  sy_snum  sy_pnum\n",
       "2        11 Com b    11 Com        2        1\n",
       "3        11 UMi b    11 UMi        1        1\n",
       "6        14 And b    14 And        1        1\n",
       "11       14 Her b    14 Her        1        2\n",
       "22     16 Cyg B b  16 Cyg B        3        1\n",
       "...           ...       ...      ...      ...\n",
       "35096   ups And b   ups And        2        3\n",
       "35103   ups And c   ups And        2        3\n",
       "35108   ups And d   ups And        2        3\n",
       "35111   ups Leo b   ups Leo        1        1\n",
       "35114    xi Aql b    xi Aql        1        1\n",
       "\n",
       "[5535 rows x 4 columns]"
      ]
     },
     "execution_count": 50,
     "metadata": {},
     "output_type": "execute_result"
    }
   ],
   "source": [
    "dfc = df\n",
    "dfc_entité=dfc[['pl_name', 'hostname', 'sy_snum', 'sy_pnum', ]]\n",
    "dfc_entité"
   ]
  },
  {
   "cell_type": "markdown",
   "metadata": {},
   "source": [
    "Analysons la répartion du nombre d'étoilespar système solaire"
   ]
  },
  {
   "cell_type": "code",
   "execution_count": 8,
   "metadata": {},
   "outputs": [
    {
     "data": {
      "text/plain": [
       "<AxesSubplot: xlabel='sy_snum'>"
      ]
     },
     "execution_count": 8,
     "metadata": {},
     "output_type": "execute_result"
    },
    {
     "data": {
      "image/png": "[encoded data removed]",
      "text/plain": [
       "<Figure size 640x480 with 1 Axes>"
      ]
     },
     "metadata": {},
     "output_type": "display_data"
    }
   ],
   "source": [
    "dfc_entité.sy_snum.value_counts().plot(kind='bar')"
   ]
  },
  {
   "cell_type": "markdown",
   "metadata": {},
   "source": [
    "On peut voir que le nombre de système avec 1 étoile est très majoriaire et que les systèmes avec 4 étoiles sont extras rares"
   ]
  },
  {
   "cell_type": "code",
   "execution_count": 9,
   "metadata": {},
   "outputs": [
    {
     "data": {
      "text/plain": [
       "count    5535.000000\n",
       "mean        1.102078\n",
       "std         0.339360\n",
       "min         1.000000\n",
       "25%         1.000000\n",
       "50%         1.000000\n",
       "75%         1.000000\n",
       "max         4.000000\n",
       "Name: sy_snum, dtype: float64"
      ]
     },
     "execution_count": 9,
     "metadata": {},
     "output_type": "execute_result"
    }
   ],
   "source": [
    "dfc_entité.sy_snum.describe()"
   ]
  },
  {
   "cell_type": "code",
   "execution_count": 10,
   "metadata": {},
   "outputs": [
    {
     "data": {
      "text/html": [
       "<div>\n",
       "<style scoped>\n",
       "    .dataframe tbody tr th:only-of-type {\n",
       "        vertical-align: middle;\n",
       "    }\n",
       "\n",
       "    .dataframe tbody tr th {\n",
       "        vertical-align: top;\n",
       "    }\n",
       "\n",
       "    .dataframe thead th {\n",
       "        text-align: right;\n",
       "    }\n",
       "</style>\n",
       "<table border=\"1\" class=\"dataframe\">\n",
       "  <thead>\n",
       "    <tr style=\"text-align: right;\">\n",
       "      <th></th>\n",
       "      <th>pl_name</th>\n",
       "      <th>hostname</th>\n",
       "      <th>sy_snum</th>\n",
       "      <th>sy_pnum</th>\n",
       "    </tr>\n",
       "  </thead>\n",
       "  <tbody>\n",
       "    <tr>\n",
       "      <th>48</th>\n",
       "      <td>30 Ari B b</td>\n",
       "      <td>30 Ari B</td>\n",
       "      <td>4</td>\n",
       "      <td>1</td>\n",
       "    </tr>\n",
       "    <tr>\n",
       "      <th>32869</th>\n",
       "      <td>PH1 b</td>\n",
       "      <td>PH1</td>\n",
       "      <td>4</td>\n",
       "      <td>1</td>\n",
       "    </tr>\n",
       "  </tbody>\n",
       "</table>\n",
       "</div>"
      ],
      "text/plain": [
       "          pl_name  hostname  sy_snum  sy_pnum\n",
       "48     30 Ari B b  30 Ari B        4        1\n",
       "32869       PH1 b       PH1        4        1"
      ]
     },
     "execution_count": 10,
     "metadata": {},
     "output_type": "execute_result"
    }
   ],
   "source": [
    "dfc_entité[dfc_entité.sy_snum ==4]"
   ]
  },
  {
   "cell_type": "markdown",
   "metadata": {},
   "source": [
    "Cela vient confirmer ce qu'on a vu précédemment plus de 75% des systèmes ont une seule étoile et on remarque que seulement 2 planètes  parmi les planètes découvertes appartiennent à un système à 4 étoiles"
   ]
  },
  {
   "cell_type": "markdown",
   "metadata": {},
   "source": [
    "Analysons maintenant le nombres de planètes par systèmes"
   ]
  },
  {
   "cell_type": "code",
   "execution_count": 11,
   "metadata": {},
   "outputs": [
    {
     "data": {
      "text/plain": [
       "<Axes: xlabel='sy_pnum'>"
      ]
     },
     "execution_count": 11,
     "metadata": {},
     "output_type": "execute_result"
    },
    {
     "data": {
      "image/png": "[encoded data removed]",
      "text/plain": [
       "<Figure size 640x480 with 1 Axes>"
      ]
     },
     "metadata": {},
     "output_type": "display_data"
    }
   ],
   "source": [
    "dfc_entité.sy_pnum.value_counts().plot(kind='bar')"
   ]
  },
  {
   "cell_type": "code",
   "execution_count": 15,
   "metadata": {},
   "outputs": [
    {
     "data": {
      "text/plain": [
       "<Axes: ylabel='count'>"
      ]
     },
     "execution_count": 15,
     "metadata": {},
     "output_type": "execute_result"
    },
    {
     "data": {
      "image/png": "[encoded data removed]",
      "text/plain": [
       "<Figure size 1000x1000 with 1 Axes>"
      ]
     },
     "metadata": {},
     "output_type": "display_data"
    }
   ],
   "source": [
    "dfc_entité.sy_pnum.value_counts().plot(kind='pie', figsize=(10,10))"
   ]
  },
  {
   "cell_type": "code",
   "execution_count": 13,
   "metadata": {},
   "outputs": [
    {
     "data": {
      "text/plain": [
       "count    5535.000000\n",
       "mean        1.770009\n",
       "std         1.146499\n",
       "min         1.000000\n",
       "25%         1.000000\n",
       "50%         1.000000\n",
       "75%         2.000000\n",
       "max         8.000000\n",
       "Name: sy_pnum, dtype: float64"
      ]
     },
     "execution_count": 13,
     "metadata": {},
     "output_type": "execute_result"
    }
   ],
   "source": [
    "dfc_entité.sy_pnum.describe()"
   ]
  },
  {
   "cell_type": "markdown",
   "metadata": {},
   "source": [
    "On remarque qu'encore un fois que les système avec une seule planète sont majoritaires (plus de 50% des systèmes). Mais on observe une plus grande variété de valeurs possibles de 1 à 8 bien que leur nombre se raréfit plus on augmente le nombre de planètes. Les systèmes majoritaires sont donc ceux composés d'une étoile et d'une planète. Notre système solaire avec 8 planètes est donc extremement rare"
   ]
  },
  {
   "cell_type": "code",
   "execution_count": 22,
   "metadata": {},
   "outputs": [],
   "source": [
    "par_etoile=dfc.groupby(by='hostname')"
   ]
  },
  {
   "cell_type": "code",
   "execution_count": 23,
   "metadata": {},
   "outputs": [
    {
     "data": {
      "text/plain": [
       "hostname\n",
       "11 Com      1\n",
       "11 UMi      1\n",
       "14 And      1\n",
       "14 Her      2\n",
       "16 Cyg B    1\n",
       "           ..\n",
       "tau Cet     4\n",
       "tau Gem     1\n",
       "ups And     3\n",
       "ups Leo     1\n",
       "xi Aql      1\n",
       "Length: 4125, dtype: int64"
      ]
     },
     "execution_count": 23,
     "metadata": {},
     "output_type": "execute_result"
    }
   ],
   "source": [
    "par_etoile.size()"
   ]
  },
  {
   "cell_type": "markdown",
   "metadata": {},
   "source": [
    "On remarque qu'il y a 4125 systèmes découverts"
   ]
  },
  {
   "cell_type": "markdown",
   "metadata": {},
   "source": [
    "On peut étudier plus précisément un système en particulier avec la commande suivante:"
   ]
  },
  {
   "cell_type": "code",
   "execution_count": 25,
   "metadata": {},
   "outputs": [
    {
     "data": {
      "text/html": [
       "<div>\n",
       "<style scoped>\n",
       "    .dataframe tbody tr th:only-of-type {\n",
       "        vertical-align: middle;\n",
       "    }\n",
       "\n",
       "    .dataframe tbody tr th {\n",
       "        vertical-align: top;\n",
       "    }\n",
       "\n",
       "    .dataframe thead th {\n",
       "        text-align: right;\n",
       "    }\n",
       "</style>\n",
       "<table border=\"1\" class=\"dataframe\">\n",
       "  <thead>\n",
       "    <tr style=\"text-align: right;\">\n",
       "      <th></th>\n",
       "      <th>rowid</th>\n",
       "      <th>pl_name</th>\n",
       "      <th>hostname</th>\n",
       "      <th>pl_letter</th>\n",
       "      <th>hd_name</th>\n",
       "      <th>hip_name</th>\n",
       "      <th>tic_id</th>\n",
       "      <th>gaia_id</th>\n",
       "      <th>default_flag</th>\n",
       "      <th>sy_snum</th>\n",
       "      <th>...</th>\n",
       "      <th>sy_kepmag</th>\n",
       "      <th>rowupdate</th>\n",
       "      <th>pl_pubdate</th>\n",
       "      <th>releasedate</th>\n",
       "      <th>pl_nnotes</th>\n",
       "      <th>st_nphot</th>\n",
       "      <th>st_nrvc</th>\n",
       "      <th>st_nspec</th>\n",
       "      <th>pl_nespec</th>\n",
       "      <th>pl_ntranspec</th>\n",
       "    </tr>\n",
       "  </thead>\n",
       "  <tbody>\n",
       "    <tr>\n",
       "      <th>35086</th>\n",
       "      <td>35087</td>\n",
       "      <td>tau Cet e</td>\n",
       "      <td>tau Cet</td>\n",
       "      <td>e</td>\n",
       "      <td>HD 10700</td>\n",
       "      <td>HIP 8102</td>\n",
       "      <td>TIC 419015728</td>\n",
       "      <td>Gaia DR2 2452378776434276992</td>\n",
       "      <td>1</td>\n",
       "      <td>1</td>\n",
       "      <td>...</td>\n",
       "      <td>NaN</td>\n",
       "      <td>2017-08-14</td>\n",
       "      <td>2017-10</td>\n",
       "      <td>2017-08-17</td>\n",
       "      <td>1</td>\n",
       "      <td>1</td>\n",
       "      <td>4</td>\n",
       "      <td>10</td>\n",
       "      <td>0</td>\n",
       "      <td>0</td>\n",
       "    </tr>\n",
       "    <tr>\n",
       "      <th>35087</th>\n",
       "      <td>35088</td>\n",
       "      <td>tau Cet f</td>\n",
       "      <td>tau Cet</td>\n",
       "      <td>f</td>\n",
       "      <td>HD 10700</td>\n",
       "      <td>HIP 8102</td>\n",
       "      <td>TIC 419015728</td>\n",
       "      <td>Gaia DR2 2452378776434276992</td>\n",
       "      <td>1</td>\n",
       "      <td>1</td>\n",
       "      <td>...</td>\n",
       "      <td>NaN</td>\n",
       "      <td>2017-08-14</td>\n",
       "      <td>2017-10</td>\n",
       "      <td>2017-08-17</td>\n",
       "      <td>1</td>\n",
       "      <td>1</td>\n",
       "      <td>4</td>\n",
       "      <td>10</td>\n",
       "      <td>0</td>\n",
       "      <td>0</td>\n",
       "    </tr>\n",
       "    <tr>\n",
       "      <th>35088</th>\n",
       "      <td>35089</td>\n",
       "      <td>tau Cet g</td>\n",
       "      <td>tau Cet</td>\n",
       "      <td>g</td>\n",
       "      <td>HD 10700</td>\n",
       "      <td>HIP 8102</td>\n",
       "      <td>TIC 419015728</td>\n",
       "      <td>Gaia DR2 2452378776434276992</td>\n",
       "      <td>1</td>\n",
       "      <td>1</td>\n",
       "      <td>...</td>\n",
       "      <td>NaN</td>\n",
       "      <td>2017-08-14</td>\n",
       "      <td>2017-10</td>\n",
       "      <td>2017-08-17</td>\n",
       "      <td>1</td>\n",
       "      <td>1</td>\n",
       "      <td>4</td>\n",
       "      <td>10</td>\n",
       "      <td>0</td>\n",
       "      <td>0</td>\n",
       "    </tr>\n",
       "    <tr>\n",
       "      <th>35089</th>\n",
       "      <td>35090</td>\n",
       "      <td>tau Cet h</td>\n",
       "      <td>tau Cet</td>\n",
       "      <td>h</td>\n",
       "      <td>HD 10700</td>\n",
       "      <td>HIP 8102</td>\n",
       "      <td>TIC 419015728</td>\n",
       "      <td>Gaia DR2 2452378776434276992</td>\n",
       "      <td>1</td>\n",
       "      <td>1</td>\n",
       "      <td>...</td>\n",
       "      <td>NaN</td>\n",
       "      <td>2017-08-14</td>\n",
       "      <td>2017-10</td>\n",
       "      <td>2017-08-17</td>\n",
       "      <td>1</td>\n",
       "      <td>1</td>\n",
       "      <td>4</td>\n",
       "      <td>10</td>\n",
       "      <td>0</td>\n",
       "      <td>0</td>\n",
       "    </tr>\n",
       "  </tbody>\n",
       "</table>\n",
       "<p>4 rows × 121 columns</p>\n",
       "</div>"
      ],
      "text/plain": [
       "       rowid    pl_name hostname pl_letter   hd_name  hip_name         tic_id  \\\n",
       "35086  35087  tau Cet e  tau Cet         e  HD 10700  HIP 8102  TIC 419015728   \n",
       "35087  35088  tau Cet f  tau Cet         f  HD 10700  HIP 8102  TIC 419015728   \n",
       "35088  35089  tau Cet g  tau Cet         g  HD 10700  HIP 8102  TIC 419015728   \n",
       "35089  35090  tau Cet h  tau Cet         h  HD 10700  HIP 8102  TIC 419015728   \n",
       "\n",
       "                            gaia_id  default_flag  sy_snum  ...  sy_kepmag  \\\n",
       "35086  Gaia DR2 2452378776434276992             1        1  ...        NaN   \n",
       "35087  Gaia DR2 2452378776434276992             1        1  ...        NaN   \n",
       "35088  Gaia DR2 2452378776434276992             1        1  ...        NaN   \n",
       "35089  Gaia DR2 2452378776434276992             1        1  ...        NaN   \n",
       "\n",
       "        rowupdate  pl_pubdate releasedate  pl_nnotes st_nphot st_nrvc  \\\n",
       "35086  2017-08-14     2017-10  2017-08-17          1        1       4   \n",
       "35087  2017-08-14     2017-10  2017-08-17          1        1       4   \n",
       "35088  2017-08-14     2017-10  2017-08-17          1        1       4   \n",
       "35089  2017-08-14     2017-10  2017-08-17          1        1       4   \n",
       "\n",
       "      st_nspec pl_nespec pl_ntranspec  \n",
       "35086       10         0            0  \n",
       "35087       10         0            0  \n",
       "35088       10         0            0  \n",
       "35089       10         0            0  \n",
       "\n",
       "[4 rows x 121 columns]"
      ]
     },
     "execution_count": 25,
     "metadata": {},
     "output_type": "execute_result"
    }
   ],
   "source": [
    "par_etoile.get_group('tau Cet')"
   ]
  },
  {
   "cell_type": "markdown",
   "metadata": {},
   "source": [
    "Par exemple on peut comparer les masses au sein d'un système"
   ]
  },
  {
   "cell_type": "code",
   "execution_count": 26,
   "metadata": {},
   "outputs": [
    {
     "data": {
      "text/plain": [
       "35086    3.93\n",
       "35087    3.93\n",
       "35088    1.75\n",
       "35089    1.83\n",
       "Name: pl_bmasse, dtype: float64"
      ]
     },
     "execution_count": 26,
     "metadata": {},
     "output_type": "execute_result"
    }
   ],
   "source": [
    "par_etoile.get_group('tau Cet').pl_bmasse"
   ]
  },
  {
   "cell_type": "markdown",
   "metadata": {},
   "source": [
    "C'est intéressant de voir que les masses sont du même ordre de grandeur alors qu'elle sont d'après la partie de Romain très étalées. C'est peu surprenant si une planète avait une masse beaucoup plus grosse que les autres elle les aurait absorbées"
   ]
  }
 ],
 "metadata": {
  "kernelspec": {
   "display_name": "base",
   "language": "python",
   "name": "python3"
  },
  "language_info": {
   "codemirror_mode": {
    "name": "ipython",
    "version": 3
   },
   "file_extension": ".py",
   "mimetype": "text/x-python",
   "name": "python",
   "nbconvert_exporter": "python",
   "pygments_lexer": "ipython3",
   "version": "3.10.6"
  }
 },
 "nbformat": 4,
 "nbformat_minor": 2
}
