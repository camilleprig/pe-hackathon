{
 "cells": [
  {
   "cell_type": "code",
   "execution_count": 40,
   "metadata": {},
   "outputs": [],
   "source": [
    "import pandas as pd\n",
    "import numpy as np\n",
    "import matplotlib.pyplot as plt\n",
    "import seaborn as sns"
   ]
  },
  {
   "cell_type": "markdown",
   "metadata": {},
   "source": [
    "## Importation des données"
   ]
  },
  {
   "cell_type": "code",
   "execution_count": 41,
   "metadata": {},
   "outputs": [
    {
     "name": "stderr",
     "output_type": "stream",
     "text": [
      "C:\\Users\\romai\\AppData\\Local\\Temp\\ipykernel_23100\\2533165777.py:1: DtypeWarning: Columns (4,5) have mixed types. Specify dtype option on import or set low_memory=False.\n",
      "  df=pd.read_csv('fichier.csv')\n"
     ]
    }
   ],
   "source": [
    "df=pd.read_csv('fichier.csv')\n",
    "df.head()\n",
    "df = df[df.default_flag == 1]"
   ]
  },
  {
   "cell_type": "markdown",
   "metadata": {},
   "source": [
    "## Partie Lise"
   ]
  },
  {
   "cell_type": "code",
   "execution_count": 42,
   "metadata": {},
   "outputs": [],
   "source": [
    "dfl = df\n"
   ]
  },
  {
   "cell_type": "markdown",
   "metadata": {},
   "source": [
    "## Partie Romain"
   ]
  },
  {
   "cell_type": "code",
   "execution_count": 43,
   "metadata": {},
   "outputs": [
    {
     "name": "stderr",
     "output_type": "stream",
     "text": [
      "C:\\Users\\romai\\AppData\\Local\\Temp\\ipykernel_23100\\830225641.py:2: SettingWithCopyWarning: \n",
      "A value is trying to be set on a copy of a slice from a DataFrame\n",
      "\n",
      "See the caveats in the documentation: https://pandas.pydata.org/pandas-docs/stable/user_guide/indexing.html#returning-a-view-versus-a-copy\n",
      "  dfr.rename(axis=\"columns\", mapper={\"pl_name\":\"nom\",\"pl_orbper\":\"période_orbite\",\"pl_orbsmax\":\"demi_grand_axe\",\"pl_rade\":\"rayon\",\"pl_bmasse\":\"masse\",\"pl_orbeccen\":\"excentricité\"},inplace=True)\n"
     ]
    }
   ],
   "source": [
    "\n",
    "dfr = df[[\"pl_name\",\"hostname\",\"default_flag\",\"sy_snum\",\"sy_pnum\",\"rowid\",\"pl_refname\",\"pl_orbper\",\"pl_orbsmax\",\"pl_rade\",\"pl_bmasse\",\"pl_orbeccen\"]]\n",
    "dfr.rename(axis=\"columns\", mapper={\"pl_name\":\"nom\",\"pl_orbper\":\"période_orbite\",\"pl_orbsmax\":\"demi_grand_axe\",\"pl_rade\":\"rayon\",\"pl_bmasse\":\"masse\",\"pl_orbeccen\":\"excentricité\"},inplace=True)"
   ]
  },
  {
   "cell_type": "code",
   "execution_count": 44,
   "metadata": {},
   "outputs": [
    {
     "data": {
      "text/html": [
       "<div>\n",
       "<style scoped>\n",
       "    .dataframe tbody tr th:only-of-type {\n",
       "        vertical-align: middle;\n",
       "    }\n",
       "\n",
       "    .dataframe tbody tr th {\n",
       "        vertical-align: top;\n",
       "    }\n",
       "\n",
       "    .dataframe thead th {\n",
       "        text-align: right;\n",
       "    }\n",
       "</style>\n",
       "<table border=\"1\" class=\"dataframe\">\n",
       "  <thead>\n",
       "    <tr style=\"text-align: right;\">\n",
       "      <th></th>\n",
       "      <th>default_flag</th>\n",
       "      <th>sy_snum</th>\n",
       "      <th>sy_pnum</th>\n",
       "      <th>rowid</th>\n",
       "      <th>période_orbite</th>\n",
       "      <th>demi_grand_axe</th>\n",
       "      <th>rayon</th>\n",
       "      <th>masse</th>\n",
       "      <th>excentricité</th>\n",
       "    </tr>\n",
       "  </thead>\n",
       "  <tbody>\n",
       "    <tr>\n",
       "      <th>count</th>\n",
       "      <td>5535.0</td>\n",
       "      <td>5535.000000</td>\n",
       "      <td>5535.000000</td>\n",
       "      <td>5535.000000</td>\n",
       "      <td>5.287000e+03</td>\n",
       "      <td>3318.000000</td>\n",
       "      <td>4173.000000</td>\n",
       "      <td>2488.000000</td>\n",
       "      <td>2185.000000</td>\n",
       "    </tr>\n",
       "    <tr>\n",
       "      <th>mean</th>\n",
       "      <td>1.0</td>\n",
       "      <td>1.102078</td>\n",
       "      <td>1.770009</td>\n",
       "      <td>15493.401987</td>\n",
       "      <td>8.088392e+04</td>\n",
       "      <td>10.374148</td>\n",
       "      <td>4.271998</td>\n",
       "      <td>764.568608</td>\n",
       "      <td>0.156389</td>\n",
       "    </tr>\n",
       "    <tr>\n",
       "      <th>std</th>\n",
       "      <td>0.0</td>\n",
       "      <td>0.339360</td>\n",
       "      <td>1.146499</td>\n",
       "      <td>11858.577474</td>\n",
       "      <td>5.531259e+06</td>\n",
       "      <td>169.371181</td>\n",
       "      <td>4.743108</td>\n",
       "      <td>1418.769337</td>\n",
       "      <td>0.185088</td>\n",
       "    </tr>\n",
       "    <tr>\n",
       "      <th>min</th>\n",
       "      <td>1.0</td>\n",
       "      <td>1.000000</td>\n",
       "      <td>1.000000</td>\n",
       "      <td>3.000000</td>\n",
       "      <td>9.070629e-02</td>\n",
       "      <td>0.004400</td>\n",
       "      <td>0.310000</td>\n",
       "      <td>0.020000</td>\n",
       "      <td>0.000000</td>\n",
       "    </tr>\n",
       "    <tr>\n",
       "      <th>25%</th>\n",
       "      <td>1.0</td>\n",
       "      <td>1.000000</td>\n",
       "      <td>1.000000</td>\n",
       "      <td>3935.500000</td>\n",
       "      <td>4.460639e+00</td>\n",
       "      <td>0.055900</td>\n",
       "      <td>1.593000</td>\n",
       "      <td>14.987500</td>\n",
       "      <td>0.014000</td>\n",
       "    </tr>\n",
       "    <tr>\n",
       "      <th>50%</th>\n",
       "      <td>1.0</td>\n",
       "      <td>1.000000</td>\n",
       "      <td>1.000000</td>\n",
       "      <td>13756.000000</td>\n",
       "      <td>1.155562e+01</td>\n",
       "      <td>0.118900</td>\n",
       "      <td>2.380000</td>\n",
       "      <td>204.046350</td>\n",
       "      <td>0.091000</td>\n",
       "    </tr>\n",
       "    <tr>\n",
       "      <th>75%</th>\n",
       "      <td>1.0</td>\n",
       "      <td>1.000000</td>\n",
       "      <td>2.000000</td>\n",
       "      <td>26968.500000</td>\n",
       "      <td>4.139416e+01</td>\n",
       "      <td>0.850000</td>\n",
       "      <td>3.690000</td>\n",
       "      <td>742.133050</td>\n",
       "      <td>0.224000</td>\n",
       "    </tr>\n",
       "    <tr>\n",
       "      <th>max</th>\n",
       "      <td>1.0</td>\n",
       "      <td>4.000000</td>\n",
       "      <td>8.000000</td>\n",
       "      <td>35115.000000</td>\n",
       "      <td>4.020000e+08</td>\n",
       "      <td>7506.000000</td>\n",
       "      <td>77.342000</td>\n",
       "      <td>9534.900000</td>\n",
       "      <td>0.950000</td>\n",
       "    </tr>\n",
       "  </tbody>\n",
       "</table>\n",
       "</div>"
      ],
      "text/plain": [
       "       default_flag      sy_snum      sy_pnum         rowid  période_orbite  \\\n",
       "count        5535.0  5535.000000  5535.000000   5535.000000    5.287000e+03   \n",
       "mean            1.0     1.102078     1.770009  15493.401987    8.088392e+04   \n",
       "std             0.0     0.339360     1.146499  11858.577474    5.531259e+06   \n",
       "min             1.0     1.000000     1.000000      3.000000    9.070629e-02   \n",
       "25%             1.0     1.000000     1.000000   3935.500000    4.460639e+00   \n",
       "50%             1.0     1.000000     1.000000  13756.000000    1.155562e+01   \n",
       "75%             1.0     1.000000     2.000000  26968.500000    4.139416e+01   \n",
       "max             1.0     4.000000     8.000000  35115.000000    4.020000e+08   \n",
       "\n",
       "       demi_grand_axe        rayon        masse  excentricité  \n",
       "count     3318.000000  4173.000000  2488.000000   2185.000000  \n",
       "mean        10.374148     4.271998   764.568608      0.156389  \n",
       "std        169.371181     4.743108  1418.769337      0.185088  \n",
       "min          0.004400     0.310000     0.020000      0.000000  \n",
       "25%          0.055900     1.593000    14.987500      0.014000  \n",
       "50%          0.118900     2.380000   204.046350      0.091000  \n",
       "75%          0.850000     3.690000   742.133050      0.224000  \n",
       "max       7506.000000    77.342000  9534.900000      0.950000  "
      ]
     },
     "execution_count": 44,
     "metadata": {},
     "output_type": "execute_result"
    }
   ],
   "source": [
    "dfr.describe()"
   ]
  },
  {
   "cell_type": "markdown",
   "metadata": {},
   "source": [
    "Les données sont très dispersées (les écarts-types sont parfois un ordre de grandeur supérieur à la moyenne !), on va donc passer en échelle logarithmique pour les représenter, et ensuite prendre la partie entière."
   ]
  },
  {
   "cell_type": "code",
   "execution_count": 53,
   "metadata": {},
   "outputs": [
    {
     "name": "stderr",
     "output_type": "stream",
     "text": [
      "C:\\Users\\romai\\AppData\\Local\\Temp\\ipykernel_23100\\1542800402.py:1: SettingWithCopyWarning: \n",
      "A value is trying to be set on a copy of a slice from a DataFrame.\n",
      "Try using .loc[row_indexer,col_indexer] = value instead\n",
      "\n",
      "See the caveats in the documentation: https://pandas.pydata.org/pandas-docs/stable/user_guide/indexing.html#returning-a-view-versus-a-copy\n",
      "  dfr[\"demi_grand_axe_log\"] = np.log10(dfr.demi_grand_axe)\n",
      "C:\\Users\\romai\\AppData\\Local\\Temp\\ipykernel_23100\\1542800402.py:2: SettingWithCopyWarning: \n",
      "A value is trying to be set on a copy of a slice from a DataFrame.\n",
      "Try using .loc[row_indexer,col_indexer] = value instead\n",
      "\n",
      "See the caveats in the documentation: https://pandas.pydata.org/pandas-docs/stable/user_guide/indexing.html#returning-a-view-versus-a-copy\n",
      "  dfr.demi_grand_axe_log = dfr.demi_grand_axe_log//1\n",
      "C:\\Users\\romai\\AppData\\Local\\Temp\\ipykernel_23100\\1542800402.py:4: SettingWithCopyWarning: \n",
      "A value is trying to be set on a copy of a slice from a DataFrame.\n",
      "Try using .loc[row_indexer,col_indexer] = value instead\n",
      "\n",
      "See the caveats in the documentation: https://pandas.pydata.org/pandas-docs/stable/user_guide/indexing.html#returning-a-view-versus-a-copy\n",
      "  dfr[\"période_orbite_log\"] = np.log10(dfr.période_orbite)\n"
     ]
    }
   ],
   "source": [
    "dfr[\"demi_grand_axe_log\"] = np.log10(dfr.demi_grand_axe)\n",
    "dfr.demi_grand_axe_log = dfr.demi_grand_axe_log//1\n",
    "\n",
    "dfr[\"période_orbite_log\"] = np.log10(dfr.période_orbite)"
   ]
  },
  {
   "cell_type": "markdown",
   "metadata": {},
   "source": [
    "### Demi grand axes des orbites des planètes"
   ]
  },
  {
   "cell_type": "code",
   "execution_count": 46,
   "metadata": {},
   "outputs": [
    {
     "data": {
      "text/plain": [
       "demi_grand_axe_log\n",
       "-2.0    1459\n",
       "-1.0    1055\n",
       " 0.0     677\n",
       " 1.0      77\n",
       " 2.0      28\n",
       "-3.0      15\n",
       " 3.0       7\n",
       "Name: count, dtype: int64"
      ]
     },
     "execution_count": 46,
     "metadata": {},
     "output_type": "execute_result"
    }
   ],
   "source": [
    "dfr.demi_grand_axe_log.value_counts()"
   ]
  },
  {
   "cell_type": "code",
   "execution_count": 47,
   "metadata": {},
   "outputs": [
    {
     "data": {
      "text/plain": [
       "<Axes: xlabel='demi grand axe (en unités astronomiques) en échelle logarithmique', ylabel='nombre de planètes'>"
      ]
     },
     "execution_count": 47,
     "metadata": {},
     "output_type": "execute_result"
    },
    {
     "data": {
      "image/png": "[encoded data removed]",
      "text/plain": [
       "<Figure size 640x480 with 1 Axes>"
      ]
     },
     "metadata": {},
     "output_type": "display_data"
    }
   ],
   "source": [
    "dfr.demi_grand_axe_log.value_counts().plot(kind = \"bar\",ylabel=\"nombre de planètes\",xlabel=\"demi grand axe (en unités astronomiques) en échelle logarithmique\")"
   ]
  },
  {
   "cell_type": "code",
   "execution_count": 48,
   "metadata": {},
   "outputs": [
    {
     "data": {
      "text/html": [
       "<div>\n",
       "<style scoped>\n",
       "    .dataframe tbody tr th:only-of-type {\n",
       "        vertical-align: middle;\n",
       "    }\n",
       "\n",
       "    .dataframe tbody tr th {\n",
       "        vertical-align: top;\n",
       "    }\n",
       "\n",
       "    .dataframe thead th {\n",
       "        text-align: right;\n",
       "    }\n",
       "</style>\n",
       "<table border=\"1\" class=\"dataframe\">\n",
       "  <thead>\n",
       "    <tr style=\"text-align: right;\">\n",
       "      <th></th>\n",
       "      <th>default_flag</th>\n",
       "      <th>sy_snum</th>\n",
       "      <th>sy_pnum</th>\n",
       "      <th>rowid</th>\n",
       "      <th>période_orbite</th>\n",
       "      <th>demi_grand_axe</th>\n",
       "      <th>rayon</th>\n",
       "      <th>masse</th>\n",
       "      <th>excentricité</th>\n",
       "      <th>demi_grand_axe_log</th>\n",
       "    </tr>\n",
       "  </thead>\n",
       "  <tbody>\n",
       "    <tr>\n",
       "      <th>count</th>\n",
       "      <td>5535.0</td>\n",
       "      <td>5535.000000</td>\n",
       "      <td>5535.000000</td>\n",
       "      <td>5535.000000</td>\n",
       "      <td>5.287000e+03</td>\n",
       "      <td>3318.000000</td>\n",
       "      <td>4173.000000</td>\n",
       "      <td>2488.000000</td>\n",
       "      <td>2185.000000</td>\n",
       "      <td>3318.000000</td>\n",
       "    </tr>\n",
       "    <tr>\n",
       "      <th>mean</th>\n",
       "      <td>1.0</td>\n",
       "      <td>1.102078</td>\n",
       "      <td>1.770009</td>\n",
       "      <td>15493.401987</td>\n",
       "      <td>8.088392e+04</td>\n",
       "      <td>10.374148</td>\n",
       "      <td>4.271998</td>\n",
       "      <td>764.568608</td>\n",
       "      <td>0.156389</td>\n",
       "      <td>-1.164557</td>\n",
       "    </tr>\n",
       "    <tr>\n",
       "      <th>std</th>\n",
       "      <td>0.0</td>\n",
       "      <td>0.339360</td>\n",
       "      <td>1.146499</td>\n",
       "      <td>11858.577474</td>\n",
       "      <td>5.531259e+06</td>\n",
       "      <td>169.371181</td>\n",
       "      <td>4.743108</td>\n",
       "      <td>1418.769337</td>\n",
       "      <td>0.185088</td>\n",
       "      <td>0.915177</td>\n",
       "    </tr>\n",
       "    <tr>\n",
       "      <th>min</th>\n",
       "      <td>1.0</td>\n",
       "      <td>1.000000</td>\n",
       "      <td>1.000000</td>\n",
       "      <td>3.000000</td>\n",
       "      <td>9.070629e-02</td>\n",
       "      <td>0.004400</td>\n",
       "      <td>0.310000</td>\n",
       "      <td>0.020000</td>\n",
       "      <td>0.000000</td>\n",
       "      <td>-3.000000</td>\n",
       "    </tr>\n",
       "    <tr>\n",
       "      <th>25%</th>\n",
       "      <td>1.0</td>\n",
       "      <td>1.000000</td>\n",
       "      <td>1.000000</td>\n",
       "      <td>3935.500000</td>\n",
       "      <td>4.460639e+00</td>\n",
       "      <td>0.055900</td>\n",
       "      <td>1.593000</td>\n",
       "      <td>14.987500</td>\n",
       "      <td>0.014000</td>\n",
       "      <td>-2.000000</td>\n",
       "    </tr>\n",
       "    <tr>\n",
       "      <th>50%</th>\n",
       "      <td>1.0</td>\n",
       "      <td>1.000000</td>\n",
       "      <td>1.000000</td>\n",
       "      <td>13756.000000</td>\n",
       "      <td>1.155562e+01</td>\n",
       "      <td>0.118900</td>\n",
       "      <td>2.380000</td>\n",
       "      <td>204.046350</td>\n",
       "      <td>0.091000</td>\n",
       "      <td>-1.000000</td>\n",
       "    </tr>\n",
       "    <tr>\n",
       "      <th>75%</th>\n",
       "      <td>1.0</td>\n",
       "      <td>1.000000</td>\n",
       "      <td>2.000000</td>\n",
       "      <td>26968.500000</td>\n",
       "      <td>4.139416e+01</td>\n",
       "      <td>0.850000</td>\n",
       "      <td>3.690000</td>\n",
       "      <td>742.133050</td>\n",
       "      <td>0.224000</td>\n",
       "      <td>-1.000000</td>\n",
       "    </tr>\n",
       "    <tr>\n",
       "      <th>max</th>\n",
       "      <td>1.0</td>\n",
       "      <td>4.000000</td>\n",
       "      <td>8.000000</td>\n",
       "      <td>35115.000000</td>\n",
       "      <td>4.020000e+08</td>\n",
       "      <td>7506.000000</td>\n",
       "      <td>77.342000</td>\n",
       "      <td>9534.900000</td>\n",
       "      <td>0.950000</td>\n",
       "      <td>3.000000</td>\n",
       "    </tr>\n",
       "  </tbody>\n",
       "</table>\n",
       "</div>"
      ],
      "text/plain": [
       "       default_flag      sy_snum      sy_pnum         rowid  période_orbite  \\\n",
       "count        5535.0  5535.000000  5535.000000   5535.000000    5.287000e+03   \n",
       "mean            1.0     1.102078     1.770009  15493.401987    8.088392e+04   \n",
       "std             0.0     0.339360     1.146499  11858.577474    5.531259e+06   \n",
       "min             1.0     1.000000     1.000000      3.000000    9.070629e-02   \n",
       "25%             1.0     1.000000     1.000000   3935.500000    4.460639e+00   \n",
       "50%             1.0     1.000000     1.000000  13756.000000    1.155562e+01   \n",
       "75%             1.0     1.000000     2.000000  26968.500000    4.139416e+01   \n",
       "max             1.0     4.000000     8.000000  35115.000000    4.020000e+08   \n",
       "\n",
       "       demi_grand_axe        rayon        masse  excentricité  \\\n",
       "count     3318.000000  4173.000000  2488.000000   2185.000000   \n",
       "mean        10.374148     4.271998   764.568608      0.156389   \n",
       "std        169.371181     4.743108  1418.769337      0.185088   \n",
       "min          0.004400     0.310000     0.020000      0.000000   \n",
       "25%          0.055900     1.593000    14.987500      0.014000   \n",
       "50%          0.118900     2.380000   204.046350      0.091000   \n",
       "75%          0.850000     3.690000   742.133050      0.224000   \n",
       "max       7506.000000    77.342000  9534.900000      0.950000   \n",
       "\n",
       "       demi_grand_axe_log  \n",
       "count         3318.000000  \n",
       "mean            -1.164557  \n",
       "std              0.915177  \n",
       "min             -3.000000  \n",
       "25%             -2.000000  \n",
       "50%             -1.000000  \n",
       "75%             -1.000000  \n",
       "max              3.000000  "
      ]
     },
     "execution_count": 48,
     "metadata": {},
     "output_type": "execute_result"
    }
   ],
   "source": [
    "dfr.describe()"
   ]
  },
  {
   "cell_type": "markdown",
   "metadata": {},
   "source": [
    "## Partie Ombline"
   ]
  },
  {
   "cell_type": "code",
   "execution_count": 49,
   "metadata": {},
   "outputs": [],
   "source": [
    "dfo = df\n"
   ]
  },
  {
   "cell_type": "markdown",
   "metadata": {},
   "source": [
    "## Partie Camille"
   ]
  },
  {
   "cell_type": "code",
   "execution_count": 50,
   "metadata": {},
   "outputs": [
    {
     "name": "stdout",
     "output_type": "stream",
     "text": [
      "Analysons la répartition du nombre d'étoile par système solaire\n"
     ]
    },
    {
     "data": {
      "text/plain": [
       "<Axes: xlabel='sy_snum'>"
      ]
     },
     "execution_count": 50,
     "metadata": {},
     "output_type": "execute_result"
    },
    {
     "data": {
      "image/png": "[encoded data removed]",
      "text/plain": [
       "<Figure size 640x480 with 1 Axes>"
      ]
     },
     "metadata": {},
     "output_type": "display_data"
    }
   ],
   "source": [
    "dfc = df\n",
    "par_etoile=df.groupby(by='hostname')\n",
    "dfc = df\n",
    "dfc_entité=dfc[['pl_name', 'hostname', 'sy_snum', 'sy_pnum', ]]\n",
    "print(\"Analysons la répartition du nombre d'étoile par système solaire\")\n",
    "dfc_entité.sy_snum.value_counts().plot(kind='bar')"
   ]
  }
 ],
 "metadata": {
  "kernelspec": {
   "display_name": "base",
   "language": "python",
   "name": "python3"
  },
  "language_info": {
   "codemirror_mode": {
    "name": "ipython",
    "version": 3
   },
   "file_extension": ".py",
   "mimetype": "text/x-python",
   "name": "python",
   "nbconvert_exporter": "python",
   "pygments_lexer": "ipython3",
   "version": "3.10.6"
  }
 },
 "nbformat": 4,
 "nbformat_minor": 2
}
